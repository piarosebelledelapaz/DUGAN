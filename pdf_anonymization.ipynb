{
  "nbformat": 4,
  "nbformat_minor": 0,
  "metadata": {
    "colab": {
      "provenance": [],
      "authorship_tag": "ABX9TyNXHnZ8fHqpbSUvq7bUnuc5",
      "include_colab_link": true
    },
    "kernelspec": {
      "name": "python3",
      "display_name": "Python 3"
    },
    "language_info": {
      "name": "python"
    }
  },
  "cells": [
    {
      "cell_type": "markdown",
      "metadata": {
        "id": "view-in-github",
        "colab_type": "text"
      },
      "source": [
        "<a href=\"https://colab.research.google.com/github/piarosebelledelapaz/DUGAN/blob/main/pdf_anonymization.ipynb\" target=\"_parent\"><img src=\"https://colab.research.google.com/assets/colab-badge.svg\" alt=\"Open In Colab\"/></a>"
      ]
    },
    {
      "cell_type": "code",
      "source": [
        "!pip install PyMuPDF"
      ],
      "metadata": {
        "colab": {
          "base_uri": "https://localhost:8080/"
        },
        "id": "LVxdfy0LsLTt",
        "outputId": "a18a9238-f158-43dd-f785-0a313ae17824"
      },
      "execution_count": null,
      "outputs": [
        {
          "output_type": "stream",
          "name": "stdout",
          "text": [
            "Collecting PyMuPDF\n",
            "  Downloading PyMuPDF-1.23.16-cp310-none-manylinux2014_x86_64.whl (4.4 MB)\n",
            "\u001b[2K     \u001b[90m━━━━━━━━━━━━━━━━━━━━━━━━━━━━━━━━━━━━━━━━\u001b[0m \u001b[32m4.4/4.4 MB\u001b[0m \u001b[31m38.0 MB/s\u001b[0m eta \u001b[36m0:00:00\u001b[0m\n",
            "\u001b[?25hCollecting PyMuPDFb==1.23.9 (from PyMuPDF)\n",
            "  Downloading PyMuPDFb-1.23.9-py3-none-manylinux2014_x86_64.manylinux_2_17_x86_64.whl (30.6 MB)\n",
            "\u001b[2K     \u001b[90m━━━━━━━━━━━━━━━━━━━━━━━━━━━━━━━━━━━━━━━━\u001b[0m \u001b[32m30.6/30.6 MB\u001b[0m \u001b[31m48.0 MB/s\u001b[0m eta \u001b[36m0:00:00\u001b[0m\n",
            "\u001b[?25hInstalling collected packages: PyMuPDFb, PyMuPDF\n",
            "Successfully installed PyMuPDF-1.23.16 PyMuPDFb-1.23.9\n"
          ]
        }
      ]
    },
    {
      "cell_type": "code",
      "source": [
        "#import PyMuPDF\n",
        "\n",
        "import fitz\n",
        "from io import BytesIO\n",
        "import os"
      ],
      "metadata": {
        "id": "3xsmqCvCMDlr"
      },
      "execution_count": null,
      "outputs": []
    },
    {
      "cell_type": "code",
      "source": [
        "# a function that searches for a specified keyword (a string) in every line of the pdf\n",
        "\n",
        "def search_for_keyword(page_lines, search_str):\n",
        "    matched_values = [] # stores the line number (starting from 1) and the keyword as a tuple\n",
        "    for line_number, line in enumerate(page_lines):\n",
        "        if search_str in line:\n",
        "            matched_values.append((line_number + 1, line.strip()))\n",
        "    print(matched_values)\n",
        "    return matched_values"
      ],
      "metadata": {
        "id": "mhbwVLZmMVhL"
      },
      "execution_count": null,
      "outputs": []
    },
    {
      "cell_type": "code",
      "execution_count": null,
      "metadata": {
        "id": "wJDs5HbzsGAD"
      },
      "outputs": [],
      "source": [
        "# a function that anonymizes the pdf by redacting the nearby field of the matched keyword found on the page with a black rectangle\n",
        "\n",
        "def anonymize(page, matched_values, page_number):\n",
        "    matches_found = 0\n",
        "    for line_number, line_text in matched_values:\n",
        "        matches_found += 1\n",
        "\n",
        "        keyword_coor = page.search_for(line_text)[0] # the exact position of the word in the pdf, (x0, y0, x1, y1)\n",
        "\n",
        "        # variables to adjust the coordinates\n",
        "        line_width = keyword_coor.width + 50\n",
        "        line_height = keyword_coor.y1 - keyword_coor.y0 + 5\n",
        "        shift_amount = 5\n",
        "\n",
        "        new_rect = fitz.Rect(keyword_coor.x1, keyword_coor.y0 - shift_amount, keyword_coor.x1+line_width, keyword_coor.y0+line_height- shift_amount) #redacted area\n",
        "\n",
        "        page.draw_rect(new_rect, color=(0, 0, 0), fill=(0, 0, 0))\n",
        "\n",
        "        # print(f\"Keyword_coor: {keyword_coor}\\nKeyword: {line_text}\\nPage: {page_number}\\nCoordinates: {new_rect}\\n\")\n",
        "\n",
        "    return matches_found"
      ]
    },
    {
      "cell_type": "code",
      "source": [
        "# function to process the pdf file to be anonymized\n",
        "\n",
        "def process_pdf(input_file: str, search_strings: list):\n",
        "    pdfDoc = fitz.open(input_file)\n",
        "\n",
        "    output_buffer = BytesIO()\n",
        "    total_matches = 0\n",
        "\n",
        "    for pg in range(pdfDoc.page_count):\n",
        "        page = pdfDoc[pg]\n",
        "        page_lines = page.get_text(\"text\").split('\\n')\n",
        "\n",
        "        for search_str in search_strings:\n",
        "            matched_values = search_for_keyword(page_lines, search_str)\n",
        "            if matched_values:\n",
        "                matches_found = anonymize(page, matched_values, pg + 1)\n",
        "                total_matches += matches_found\n",
        "\n",
        "    input_filename, input_file_extension = os.path.splitext(os.path.basename(input_file))\n",
        "    output_file = f\"{input_filename}_anonymized.pdf\"\n",
        "\n",
        "    pdfDoc.save(output_buffer)\n",
        "    pdfDoc.close()\n",
        "\n",
        "    with open(output_file, mode='wb') as f:\n",
        "        f.write(output_buffer.getbuffer())"
      ],
      "metadata": {
        "id": "CObiYeefhaT7"
      },
      "execution_count": null,
      "outputs": []
    },
    {
      "cell_type": "code",
      "source": [
        "process_data(\"/content/test.pdf\", [\"Name\", \"Vorname\", \"Geburtsdatum\"])"
      ],
      "metadata": {
        "colab": {
          "base_uri": "https://localhost:8080/"
        },
        "id": "AsddGlZLhGIs",
        "outputId": "506ab029-5688-4a3b-ec1f-3dde7fc73756"
      },
      "execution_count": null,
      "outputs": [
        {
          "output_type": "stream",
          "name": "stdout",
          "text": [
            "Keyword_coor: Rect(11.338600158691406, 590.7291870117188, 36.23460006713867, 600.2332153320312)\n",
            "Keyword: Name:\n",
            "Page: 1\n",
            "Coordinates: Rect(36.23460006713867, 585.7291870117188, 111.13059997558594, 600.2332153320312)\n",
            "\n",
            "Keyword_coor: Rect(201.33859252929688, 590.7291870117188, 237.59458923339844, 600.2332153320312)\n",
            "Keyword: Vorname:\n",
            "Page: 1\n",
            "Coordinates: Rect(237.59458923339844, 585.7291870117188, 323.8505859375, 600.2332153320312)\n",
            "\n",
            "Keyword_coor: Rect(11.338600158691406, 615.7291870117188, 68.84260559082031, 625.2332153320312)\n",
            "Keyword: Geburtsdatum:\n",
            "Page: 1\n",
            "Coordinates: Rect(68.84260559082031, 610.7291870117188, 176.34661102294922, 625.2332153320312)\n",
            "\n",
            "Keyword_coor: Rect(373.6852722167969, 783.2598266601562, 393.9132995605469, 790.9818115234375)\n",
            "Keyword: Name:\n",
            "Page: 2\n",
            "Coordinates: Rect(393.9132995605469, 778.2598266601562, 464.1413269042969, 790.9818115234375)\n",
            "\n",
            "Keyword_coor: Rect(228.455810546875, 783.2598266601562, 257.913818359375, 790.9818115234375)\n",
            "Keyword: Vorname:\n",
            "Page: 2\n",
            "Coordinates: Rect(257.913818359375, 778.2598266601562, 337.371826171875, 790.9818115234375)\n",
            "\n",
            "Keyword_coor: Rect(72.18931579589844, 783.2598266601562, 118.91130828857422, 790.9818115234375)\n",
            "Keyword: Geburtsdatum:\n",
            "Page: 2\n",
            "Coordinates: Rect(118.91130828857422, 778.2598266601562, 215.63330078125, 790.9818115234375)\n",
            "\n",
            "6 Match(es) Found of Search Strings ['Name', 'Vorname', 'Geburtsdatum'] In Input File: /content/test.pdf\n"
          ]
        }
      ]
    }
  ]
}